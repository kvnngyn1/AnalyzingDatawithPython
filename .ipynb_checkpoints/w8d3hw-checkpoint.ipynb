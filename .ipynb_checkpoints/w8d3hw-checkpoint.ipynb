{
 "cells": [
  {
   "cell_type": "markdown",
   "metadata": {},
   "source": [
    "#### HOMEWORK Exercise :\n",
    "#### Take a look at data and come up with 3 good questions and use some of the methods done in this \n",
    "#### Jupyter Notebook to successfully answer the questions.\n",
    "\n",
    "\n",
    "#### What is the average number of days customers would keep a subscription for?\n",
    "#### How long does each person take(days) to complete a project?\n",
    "####"
   ]
  },
  {
   "cell_type": "code",
   "execution_count": null,
   "metadata": {},
   "outputs": [],
   "source": []
  },
  {
   "cell_type": "code",
   "execution_count": null,
   "metadata": {},
   "outputs": [],
   "source": []
  },
  {
   "cell_type": "code",
   "execution_count": null,
   "metadata": {},
   "outputs": [],
   "source": []
  },
  {
   "cell_type": "markdown",
   "metadata": {},
   "source": [
    "### Homework Exercise #3 <br>\n",
    "<p>Print each persons name and twitter handle etc., using groups, should look like:</p>"
   ]
  },
  {
   "cell_type": "code",
   "execution_count": null,
   "metadata": {},
   "outputs": [],
   "source": [
    "# [\n",
    "#     (First and last name,\n",
    "#      email, \n",
    "#      phone,\n",
    "#      title,\n",
    "#      Twitter handle)\n",
    "# ]"
   ]
  },
  {
   "cell_type": "code",
   "execution_count": null,
   "metadata": {},
   "outputs": [],
   "source": [
    "# re.VERBOSE/re.X - Allows multiline regular expressions\n",
    "# re.IGNORECASE/re.I - Ignores casing\n",
    "\n",
    "import re \n",
    "\n",
    "#open a .txt file using pythonn\n",
    "file = open('./names.txt', encoding='utf-8')\n",
    "\n",
    "# read the data from the txt file\n",
    "data = file.read()\n",
    "\n",
    "# ALWAYS close your data streams to any files. Memory leakage and whatnot\n",
    "file.close()\n",
    "\n",
    "information = \"\"\"\n",
    "Patel, Ripal: ripalp@codingtemple.com : 555 555-5555 : Teacher : @derekhawkins\n",
    "Carter, Joel: joelc@codingtemple.com : (555) 555-5555 : Teacher : @carterjoel\n",
    "Butz, Ryan: ryanb@codingtemple.gov : (555) 555-5555 : CEO : @ryanbutz\n",
    "Stanton, Brain: brians@codingtemple.com : 555-555-5555 : titleexample : @brainstanton\n",
    "Davitt, Sam: samd@codingtemple.com : (555) 555-5555 : Teacher : @samdavitt\n",
    "\"\"\"\n",
    "\n",
    "information\n",
    "\n",
    "compiler = re.compile(r'''\n",
    "    (?P<name>[\\w]+,\\s[\\w]+)                         #last, first name\n",
    "    (?P<email>:\\s[\\d\\w'-+.]+@[-.\\w\\d]+)             #email\n",
    "    (?P<phone>\\s:\\s\\(?\\d{3}\\)?\\s?-?\\d{3}-\\d{4})     #phone\n",
    "    (?P<title>\\s:\\s[\\d\\w]+)                         #title\n",
    "    (?P<twitter>\\s:\\s@[\\d\\w'-+.]+)                  #twitter\n",
    "''', re.X)\n",
    "\n",
    "for i in compiler.finditer(information):\n",
    "    print(f\"Name: {i.group('name')}\\nEmail: {i.group('email')[2:]}\\nPhone: {i.group('phone')[3:]}\\nTitle: {i.group('title')[4:]}\\nTwitter: {i.group('twitter')[5:]}\\n\")\n",
    " "
   ]
  }
 ],
 "metadata": {
  "kernelspec": {
   "display_name": "Python 3",
   "language": "python",
   "name": "python3"
  },
  "language_info": {
   "codemirror_mode": {
    "name": "ipython",
    "version": 3
   },
   "file_extension": ".py",
   "mimetype": "text/x-python",
   "name": "python",
   "nbconvert_exporter": "python",
   "pygments_lexer": "ipython3",
   "version": "3.9.6"
  }
 },
 "nbformat": 4,
 "nbformat_minor": 2
}
